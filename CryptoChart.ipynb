{
 "cells": [
  {
   "cell_type": "code",
   "execution_count": 79,
   "id": "744e0f0e-4871-4d63-bcb0-0c81ba1ae560",
   "metadata": {},
   "outputs": [
    {
     "name": "stdout",
     "output_type": "stream",
     "text": [
      "Requirement already satisfied: plotly in c:\\users\\vice\\appdata\\local\\programs\\python\\python39\\lib\\site-packages (4.14.3)\n",
      "Requirement already satisfied: six in c:\\users\\vice\\appdata\\local\\programs\\python\\python39\\lib\\site-packages (from plotly) (1.15.0)\n",
      "Requirement already satisfied: retrying>=1.3.3 in c:\\users\\vice\\appdata\\local\\programs\\python\\python39\\lib\\site-packages (from plotly) (1.3.3)\n",
      "Collecting mplfinance\n",
      "  Downloading mplfinance-0.12.7a17-py3-none-any.whl (62 kB)\n",
      "Requirement already satisfied: pandas in c:\\users\\vice\\appdata\\local\\programs\\python\\python39\\lib\\site-packages (from mplfinance) (1.2.4)\n",
      "Requirement already satisfied: matplotlib in c:\\users\\vice\\appdata\\local\\programs\\python\\python39\\lib\\site-packages (from mplfinance) (3.4.1)\n",
      "Requirement already satisfied: cycler>=0.10 in c:\\users\\vice\\appdata\\local\\programs\\python\\python39\\lib\\site-packages (from matplotlib->mplfinance) (0.10.0)\n",
      "Requirement already satisfied: python-dateutil>=2.7 in c:\\users\\vice\\appdata\\local\\programs\\python\\python39\\lib\\site-packages (from matplotlib->mplfinance) (2.8.1)\n",
      "Requirement already satisfied: pyparsing>=2.2.1 in c:\\users\\vice\\appdata\\local\\programs\\python\\python39\\lib\\site-packages (from matplotlib->mplfinance) (2.4.7)\n",
      "Requirement already satisfied: kiwisolver>=1.0.1 in c:\\users\\vice\\appdata\\local\\programs\\python\\python39\\lib\\site-packages (from matplotlib->mplfinance) (1.3.1)\n",
      "Requirement already satisfied: pillow>=6.2.0 in c:\\users\\vice\\appdata\\local\\programs\\python\\python39\\lib\\site-packages (from matplotlib->mplfinance) (8.2.0)\n",
      "Requirement already satisfied: numpy>=1.16 in c:\\users\\vice\\appdata\\local\\programs\\python\\python39\\lib\\site-packages (from matplotlib->mplfinance) (1.19.5)\n",
      "Requirement already satisfied: six in c:\\users\\vice\\appdata\\local\\programs\\python\\python39\\lib\\site-packages (from cycler>=0.10->matplotlib->mplfinance) (1.15.0)\n",
      "Requirement already satisfied: pytz>=2017.3 in c:\\users\\vice\\appdata\\local\\programs\\python\\python39\\lib\\site-packages (from pandas->mplfinance) (2021.1)\n",
      "Installing collected packages: mplfinance\n",
      "Successfully installed mplfinance-0.12.7a17\n"
     ]
    }
   ],
   "source": [
    "!pip install plotly\n",
    "!pip install mplfinance\n",
    "import pandas as pd\n",
    "import numpy as np\n",
    "import plotly.graph_objects as go\n",
    "from plotly.offline import plot\n",
    "import matplotlib.pyplot as plt\n",
    "import datetime\n",
    "from pycoingecko import CoinGeckoAPI\n",
    "from mplfinance.original_flavor import candlestick2_ohlc"
   ]
  },
  {
   "cell_type": "code",
   "execution_count": 80,
   "id": "e9e8498d-c153-4807-b707-89ec38d76d50",
   "metadata": {},
   "outputs": [],
   "source": [
    "cg = CoinGeckoAPI()\n",
    "btc_data= cg.get_coin_market_chart_by_id(id='bitcoin',vs_currency='eur', days=30)\n",
    "bitcoin_price_data=btc_data['prices']\n",
    "data = pd.DataFrame(bitcoin_price_data, columns=['Timestamp', 'Price'])"
   ]
  },
  {
   "cell_type": "code",
   "execution_count": 81,
   "id": "8161fbfa-766a-40d0-81f0-8ed44fa522c8",
   "metadata": {},
   "outputs": [],
   "source": [
    "data['Date']= pd.to_datetime(data['Timestamp'], unit='ms')"
   ]
  },
  {
   "cell_type": "code",
   "execution_count": 82,
   "id": "3e0a4ab4-5351-4f92-a979-a42742496b8d",
   "metadata": {},
   "outputs": [
    {
     "data": {
      "text/html": [
       "<div>\n",
       "<style scoped>\n",
       "    .dataframe tbody tr th:only-of-type {\n",
       "        vertical-align: middle;\n",
       "    }\n",
       "\n",
       "    .dataframe tbody tr th {\n",
       "        vertical-align: top;\n",
       "    }\n",
       "\n",
       "    .dataframe thead th {\n",
       "        text-align: right;\n",
       "    }\n",
       "</style>\n",
       "<table border=\"1\" class=\"dataframe\">\n",
       "  <thead>\n",
       "    <tr style=\"text-align: right;\">\n",
       "      <th></th>\n",
       "      <th>Timestamp</th>\n",
       "      <th>Price</th>\n",
       "      <th>Date</th>\n",
       "    </tr>\n",
       "  </thead>\n",
       "  <tbody>\n",
       "    <tr>\n",
       "      <th>0</th>\n",
       "      <td>1618618000894</td>\n",
       "      <td>51276.662529</td>\n",
       "      <td>2021-04-17 00:06:40.894</td>\n",
       "    </tr>\n",
       "    <tr>\n",
       "      <th>1</th>\n",
       "      <td>1618621423176</td>\n",
       "      <td>51305.349753</td>\n",
       "      <td>2021-04-17 01:03:43.176</td>\n",
       "    </tr>\n",
       "    <tr>\n",
       "      <th>2</th>\n",
       "      <td>1618625292971</td>\n",
       "      <td>51722.953497</td>\n",
       "      <td>2021-04-17 02:08:12.971</td>\n",
       "    </tr>\n",
       "    <tr>\n",
       "      <th>3</th>\n",
       "      <td>1618628746996</td>\n",
       "      <td>51959.658129</td>\n",
       "      <td>2021-04-17 03:05:46.996</td>\n",
       "    </tr>\n",
       "    <tr>\n",
       "      <th>4</th>\n",
       "      <td>1618632071484</td>\n",
       "      <td>52118.130637</td>\n",
       "      <td>2021-04-17 04:01:11.484</td>\n",
       "    </tr>\n",
       "  </tbody>\n",
       "</table>\n",
       "</div>"
      ],
      "text/plain": [
       "       Timestamp         Price                    Date\n",
       "0  1618618000894  51276.662529 2021-04-17 00:06:40.894\n",
       "1  1618621423176  51305.349753 2021-04-17 01:03:43.176\n",
       "2  1618625292971  51722.953497 2021-04-17 02:08:12.971\n",
       "3  1618628746996  51959.658129 2021-04-17 03:05:46.996\n",
       "4  1618632071484  52118.130637 2021-04-17 04:01:11.484"
      ]
     },
     "execution_count": 82,
     "metadata": {},
     "output_type": "execute_result"
    }
   ],
   "source": [
    "data.head()"
   ]
  },
  {
   "cell_type": "code",
   "execution_count": 83,
   "id": "9a41d600-4c85-4a9e-ab78-8d70aac126ea",
   "metadata": {},
   "outputs": [
    {
     "data": {
      "text/html": [
       "<div>\n",
       "<style scoped>\n",
       "    .dataframe tbody tr th:only-of-type {\n",
       "        vertical-align: middle;\n",
       "    }\n",
       "\n",
       "    .dataframe tbody tr th {\n",
       "        vertical-align: top;\n",
       "    }\n",
       "\n",
       "    .dataframe thead tr th {\n",
       "        text-align: left;\n",
       "    }\n",
       "\n",
       "    .dataframe thead tr:last-of-type th {\n",
       "        text-align: right;\n",
       "    }\n",
       "</style>\n",
       "<table border=\"1\" class=\"dataframe\">\n",
       "  <thead>\n",
       "    <tr>\n",
       "      <th></th>\n",
       "      <th colspan=\"4\" halign=\"left\">Price</th>\n",
       "    </tr>\n",
       "    <tr>\n",
       "      <th></th>\n",
       "      <th>min</th>\n",
       "      <th>max</th>\n",
       "      <th>first</th>\n",
       "      <th>last</th>\n",
       "    </tr>\n",
       "    <tr>\n",
       "      <th>Date</th>\n",
       "      <th></th>\n",
       "      <th></th>\n",
       "      <th></th>\n",
       "      <th></th>\n",
       "    </tr>\n",
       "  </thead>\n",
       "  <tbody>\n",
       "    <tr>\n",
       "      <th>2021-04-17</th>\n",
       "      <td>50462.347566</td>\n",
       "      <td>52118.130637</td>\n",
       "      <td>51276.662529</td>\n",
       "      <td>50616.494966</td>\n",
       "    </tr>\n",
       "    <tr>\n",
       "      <th>2021-04-18</th>\n",
       "      <td>44702.043900</td>\n",
       "      <td>50155.537593</td>\n",
       "      <td>50155.537593</td>\n",
       "      <td>47335.946375</td>\n",
       "    </tr>\n",
       "    <tr>\n",
       "      <th>2021-04-19</th>\n",
       "      <td>45524.948840</td>\n",
       "      <td>47906.508629</td>\n",
       "      <td>46834.921069</td>\n",
       "      <td>46510.911566</td>\n",
       "    </tr>\n",
       "    <tr>\n",
       "      <th>2021-04-20</th>\n",
       "      <td>44672.637012</td>\n",
       "      <td>47233.116136</td>\n",
       "      <td>46274.255281</td>\n",
       "      <td>46834.763391</td>\n",
       "    </tr>\n",
       "    <tr>\n",
       "      <th>2021-04-21</th>\n",
       "      <td>45030.676964</td>\n",
       "      <td>46917.829901</td>\n",
       "      <td>46917.829901</td>\n",
       "      <td>45030.676964</td>\n",
       "    </tr>\n",
       "  </tbody>\n",
       "</table>\n",
       "</div>"
      ],
      "text/plain": [
       "                   Price                                          \n",
       "                     min           max         first          last\n",
       "Date                                                              \n",
       "2021-04-17  50462.347566  52118.130637  51276.662529  50616.494966\n",
       "2021-04-18  44702.043900  50155.537593  50155.537593  47335.946375\n",
       "2021-04-19  45524.948840  47906.508629  46834.921069  46510.911566\n",
       "2021-04-20  44672.637012  47233.116136  46274.255281  46834.763391\n",
       "2021-04-21  45030.676964  46917.829901  46917.829901  45030.676964"
      ]
     },
     "execution_count": 83,
     "metadata": {},
     "output_type": "execute_result"
    }
   ],
   "source": [
    "candlestick_data = data.groupby(data.Date.dt.date).agg({'Price': ['min','max','first','last']})\n",
    "candlestick_data.head()"
   ]
  },
  {
   "cell_type": "code",
   "execution_count": null,
   "id": "8d6d9b31-3e54-4c56-a790-63582c81a07f",
   "metadata": {},
   "outputs": [],
   "source": [
    "candlestick_data['Price']['min']\n",
    "\n",
    "\n",
    "fig = go.Figure(data=[go.Candlestick(x= candlestick_data.index,\n",
    "                                     open=candlestick_data['Price']['first'],\n",
    "                                     high=candlestick_data['Price']['max'],\n",
    "                                     low=candlestick_data['Price']['min'],\n",
    "                                     close=candlestick_data['Price']['last'])\n",
    "                                     ])\n",
    "\n",
    "fig.update_layout(title='Bitcoin Candlestick Chart Overt Past 30 days', xaxis_rangeslider_visible=False, xaxis_title='Date',\n",
    "                 yaxis_title='Price (USD $)')"
   ]
  },
  {
   "cell_type": "code",
   "execution_count": 88,
   "id": "23f44815-ae94-4766-8b3d-080fcf4138d6",
   "metadata": {},
   "outputs": [],
   "source": [
    "url = plot(fig, output_type='file', filename='bitcoin_candlestick_graph' + '.html')"
   ]
  }
 ],
 "metadata": {
  "kernelspec": {
   "display_name": "Python 3",
   "language": "python",
   "name": "python3"
  },
  "language_info": {
   "codemirror_mode": {
    "name": "ipython",
    "version": 3
   },
   "file_extension": ".py",
   "mimetype": "text/x-python",
   "name": "python",
   "nbconvert_exporter": "python",
   "pygments_lexer": "ipython3",
   "version": "3.9.5"
  }
 },
 "nbformat": 4,
 "nbformat_minor": 5
}
