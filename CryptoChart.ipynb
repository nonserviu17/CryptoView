{
 "cells": [
  {
   "cell_type": "code",
   "execution_count": null,
   "id": "744e0f0e-4871-4d63-bcb0-0c81ba1ae560",
   "metadata": {},
   "outputs": [],
   "source": [
    "!pip install plotly\n",
    "!pip install mplfinance\n",
    "import pandas as pd\n",
    "import numpy as np\n",
    "import plotly.graph_objects as go\n",
    "from plotly.offline import plot\n",
    "import matplotlib.pyplot as plt\n",
    "import datetime\n",
    "from pycoingecko import CoinGeckoAPI\n",
    "from mplfinance.original_flavor import candlestick2_ohlc"
   ]
  },
  {
   "cell_type": "code",
   "execution_count": 129,
   "id": "e9e8498d-c153-4807-b707-89ec38d76d50",
   "metadata": {},
   "outputs": [],
   "source": [
    "cg = CoinGeckoAPI()\n",
    "btc_data= cg.get_coin_market_chart_by_id(id='bitcoin',vs_currency='eur', days=30)\n",
    "bitcoin_price_data=btc_data['prices']\n",
    "data = pd.DataFrame(bitcoin_price_data, columns=['Timestamp', 'Price'])\n",
    "\n",
    "doge_data= cg.get_coin_market_chart_by_id(id='dogecoin',vs_currency='eur', days=30)\n",
    "doge_price_data=doge_data['prices']\n",
    "datad = pd.DataFrame(doge_price_data, columns=['Timestamp', 'Price'])"
   ]
  },
  {
   "cell_type": "code",
   "execution_count": 130,
   "id": "8161fbfa-766a-40d0-81f0-8ed44fa522c8",
   "metadata": {},
   "outputs": [],
   "source": [
    "data['Date']= pd.to_datetime(data['Timestamp'], unit='ms')\n",
    "datad['Date']= pd.to_datetime(datad['Timestamp'], unit='ms')"
   ]
  },
  {
   "cell_type": "code",
   "execution_count": null,
   "id": "3e0a4ab4-5351-4f92-a979-a42742496b8d",
   "metadata": {},
   "outputs": [],
   "source": [
    "data.head(),datad.head()"
   ]
  },
  {
   "cell_type": "code",
   "execution_count": null,
   "id": "9a41d600-4c85-4a9e-ab78-8d70aac126ea",
   "metadata": {},
   "outputs": [],
   "source": [
    "candlestick_data = data.groupby(data.Date.dt.date).agg({'Price': ['min','max','first','last']})\n",
    "candlestick_data.head()\n"
   ]
  },
  {
   "cell_type": "code",
   "execution_count": null,
   "id": "0c10a254-5868-475e-832f-bfd25c105283",
   "metadata": {},
   "outputs": [],
   "source": [
    "candlestick_datad = datad.groupby(datad.Date.dt.date).agg({'Price': ['min','max','first','last']})\n",
    "candlestick_datad.head()"
   ]
  },
  {
   "cell_type": "code",
   "execution_count": null,
   "id": "8d6d9b31-3e54-4c56-a790-63582c81a07f",
   "metadata": {},
   "outputs": [],
   "source": [
    "candlestick_data['Price']['min']\n",
    "\n",
    "\n",
    "fig = go.Figure(data=[go.Candlestick(x= candlestick_data.index,\n",
    "                                     open=candlestick_data['Price']['first'],\n",
    "                                     high=candlestick_data['Price']['max'],\n",
    "                                     low=candlestick_data['Price']['min'],\n",
    "                                     close=candlestick_data['Price']['last'])\n",
    "                                     ])\n",
    "\n",
    "fig.update_layout(title='Bitcoin Candlestick Chart Overt Past 30 days', xaxis_rangeslider_visible=False, xaxis_title='Date',\n",
    "                 yaxis_title='Price (EUR €)')\n",
    "\n",
    "\n"
   ]
  },
  {
   "cell_type": "code",
   "execution_count": null,
   "id": "dbbbfbc7-bf98-43b7-a378-abec5cbf7421",
   "metadata": {},
   "outputs": [],
   "source": [
    "candlestick_datad['Price']['min']\n",
    "\n",
    "\n",
    "fig = go.Figure(data=[go.Candlestick(x= candlestick_datad.index,\n",
    "                                     open=candlestick_datad['Price']['first'],\n",
    "                                     high=candlestick_datad['Price']['max'],\n",
    "                                     low=candlestick_datad['Price']['min'],\n",
    "                                     close=candlestick_datad['Price']['last'])\n",
    "                                     ])\n",
    "\n",
    "fig.update_layout(title='Doge Candlestick Chart Overt Past 30 days', xaxis_rangeslider_visible=False, xaxis_title='Date',\n",
    "                 yaxis_title='Price (EUR €)')"
   ]
  },
  {
   "cell_type": "code",
   "execution_count": null,
   "id": "23f44815-ae94-4766-8b3d-080fcf4138d6",
   "metadata": {},
   "outputs": [],
   "source": [
    "url = plot(fig, output_type='file', filename='bitcoin_candlestick_graph' + '.html')"
   ]
  },
  {
   "cell_type": "code",
   "execution_count": null,
   "id": "874c7fa1-bf1e-4227-8a62-9e68820f95f5",
   "metadata": {},
   "outputs": [],
   "source": [
    "url = plot(fig, output_type='file', filename='dogecoin_candlestick_graph' + '.html')"
   ]
  }
 ],
 "metadata": {
  "kernelspec": {
   "display_name": "Python 3",
   "language": "python",
   "name": "python3"
  },
  "language_info": {
   "codemirror_mode": {
    "name": "ipython",
    "version": 3
   },
   "file_extension": ".py",
   "mimetype": "text/x-python",
   "name": "python",
   "nbconvert_exporter": "python",
   "pygments_lexer": "ipython3",
   "version": "3.9.5"
  }
 },
 "nbformat": 4,
 "nbformat_minor": 5
}
